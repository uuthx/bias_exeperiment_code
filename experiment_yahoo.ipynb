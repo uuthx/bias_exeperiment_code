{
 "cells": [
  {
   "cell_type": "code",
   "execution_count": 1,
   "metadata": {},
   "outputs": [],
   "source": [
    "import numpy  as np\n",
    "import pandas as pd\n",
    "from torch.optim import Adam\n",
    "from torch.nn import MSELoss,BCELoss\n",
    "from torch.nn.functional import binary_cross_entropy\n",
    "from torch import LongTensor\n",
    "import torch\n",
    "from sklearn.metrics import roc_auc_score\n",
    "from tqdm import tqdm"
   ]
  },
  {
   "cell_type": "code",
   "execution_count": 14,
   "metadata": {},
   "outputs": [
    {
     "name": "stdout",
     "output_type": "stream",
     "text": [
      "===>Load from yahoo data set<===\n",
      "[train] num data: 311704\n",
      "[test]  num data: 54000\n",
      "===>Load from yahoo data set<===\n",
      "[train] num data: 311704\n",
      "[test]  num data: 54000\n"
     ]
    }
   ],
   "source": [
    "from Dataset import *\n",
    "from torch.utils.data import DataLoader\n",
    "np.random.seed(2022)\n",
    "train = DebiasDataset(datatype='train',name = 'yahoo')\n",
    "test = DebiasDataset(datatype='test',name = 'yahoo')\n",
    "\n",
    "train_loader = DataLoader(dataset=train,batch_size=2048,shuffle=True)\n",
    "test_loader = DataLoader(dataset=test,batch_size=54000,shuffle=True)\n"
   ]
  },
  {
   "cell_type": "code",
   "execution_count": 26,
   "metadata": {},
   "outputs": [
    {
     "name": "stderr",
     "output_type": "stream",
     "text": [
      "100%|██████████| 500/500 [10:14<00:00,  1.23s/it]\n"
     ]
    },
    {
     "name": "stdout",
     "output_type": "stream",
     "text": [
      "mse is 0.3900812268257141\n",
      "auc is 0.647725664554786\n"
     ]
    }
   ],
   "source": [
    "#’---------MF----------------‘\n",
    "\n",
    "from MF import *\n",
    "device=torch.device(\"cuda:0\" if torch.cuda.is_available() else \"cpu\")\n",
    "\n",
    "model = MF(15401,1001,device = device,use_mul = True)\n",
    "optimizer = Adam(model.parameters(),lr = 0.01,weight_decay=0.001)\n",
    "func_loss = BCELoss()\n",
    "early_stop = 0\n",
    "last_loss = 1e10\n",
    "for epoch in tqdm(range(500)):\n",
    "    epoch_loss = 0\n",
    "    for step,((user_idx,item_idx),rates) in enumerate(train_loader):\n",
    "\n",
    "\n",
    "        rates_pre = model(user_idx,item_idx)\n",
    "\n",
    "        loss = func_loss(rates_pre,rates.float())\n",
    "\n",
    "        optimizer.zero_grad()\n",
    "\n",
    "        loss.backward()\n",
    "\n",
    "        optimizer.step()\n",
    "        epoch_loss += loss.detach().numpy()\n",
    "\n",
    "    relative_loss_div = (last_loss-epoch_loss)/(last_loss+1e-10)\n",
    "    if  abs(relative_loss_div) < 1e-5:\n",
    "        if early_stop > 5:\n",
    "            print(\"[MF-IPS] epoch:{}, xent:{}\".format(epoch, epoch_loss))\n",
    "            break\n",
    "        early_stop += 1\n",
    "    last_loss = epoch_loss\n",
    "\n",
    "        # earlyStop(loss.item(),model)\n",
    "\n",
    "    # print('epoch is {}, loss is {}'.format(epoch,loss))\n",
    "\n",
    "#-------------test------------------\n",
    "mse = 0.0\n",
    "mse_func = lambda x,y: torch.mean((x-y)**2)\n",
    "with torch.no_grad():\n",
    "    for step,((user_idx,item_idx),rates) in enumerate(test_loader):\n",
    "\n",
    "        rates_pre = model(user_idx,item_idx)\n",
    "        mse = mse_func(rates_pre,rates.float())\n",
    "        auc = roc_auc_score(rates,rates_pre)\n",
    "        print('mse is {}'.format(mse))\n",
    "        print('auc is {}'.format(auc))\n",
    "    "
   ]
  },
  {
   "cell_type": "code",
   "execution_count": 20,
   "metadata": {},
   "outputs": [
    {
     "name": "stdout",
     "output_type": "stream",
     "text": [
      "===>Load from yahoo data set<===\n",
      "[train] num data: 311704\n",
      "[test]  num data: 54000\n"
     ]
    },
    {
     "name": "stderr",
     "output_type": "stream",
     "text": [
      "100%|██████████| 500/500 [11:10<00:00,  1.34s/it]\n"
     ]
    },
    {
     "name": "stdout",
     "output_type": "stream",
     "text": [
      "mse is 0.25\n",
      "auc is 0.5007794781473397\n"
     ]
    }
   ],
   "source": [
    "#----MF-IPS  IPS from MAR--------'\n",
    "from Propensity import *\n",
    "from MF import *\n",
    "#cauculate Inverse Propensity Score\n",
    "\n",
    "device=torch.device(\"cuda:0\" if torch.cuda.is_available() else \"cpu\")\n",
    "config = {'num_users':290,'num_items':300,'propensity_model':'popularity'}\n",
    "\n",
    "propensity = Propensity(config)\n",
    "data = propensity.get_data(name = 'yahoo')\n",
    "propensity.fit(data)\n",
    "score = propensity.predict(data)\n",
    "last_loss = 1e10\n",
    "\n",
    "\n",
    "model = MF(15401,1001,device = device)\n",
    "optimizer = Adam(model.parameters(),lr = 0.01,weight_decay=0.001)\n",
    "func_loss = MSELoss(reduction= 'none')\n",
    "early_stop = 0\n",
    "for epoch in tqdm(range(500)):\n",
    "    \n",
    "    for step,((user_idx,item_idx),rates) in enumerate(train_loader):\n",
    "        prop_score = torch.FloatTensor(score[item_idx])\n",
    "\n",
    "        rates_pre = model(user_idx,item_idx)\n",
    "\n",
    "\n",
    "        loss = binary_cross_entropy(rates_pre,rates.float(),weight=prop_score)\n",
    "        loss = torch.mean(loss)\n",
    "\n",
    "        optimizer.zero_grad()\n",
    "\n",
    "        loss.backward()\n",
    "\n",
    "        optimizer.step()\n",
    "        epoch_loss += loss.detach().numpy()\n",
    "\n",
    "    relative_loss_div = (last_loss-epoch_loss)/(last_loss+1e-10)\n",
    "    if  abs(relative_loss_div) < 1e-4:\n",
    "        if early_stop > 5:\n",
    "            print(\"[MF-IPS] epoch:{}, xent:{}\".format(epoch, epoch_loss))\n",
    "            break\n",
    "        early_stop += 1\n",
    "    last_loss = epoch_loss\n",
    "\n",
    "\n",
    "#-------------test------------------\n",
    "mse = 0.0\n",
    "mse_func = lambda x,y: torch.mean((x-y)**2)\n",
    "with torch.no_grad():\n",
    "    for step,((user_idx,item_idx),rates) in enumerate(test_loader):\n",
    "\n",
    "        rates_pre = model(user_idx,item_idx)\n",
    "        mse = mse_func(rates_pre,rates.float())\n",
    "        auc = roc_auc_score(rates,rates_pre)\n",
    "        print('mse is {}'.format(mse))\n",
    "        print('auc is {}'.format(auc))\n"
   ]
  },
  {
   "cell_type": "code",
   "execution_count": 24,
   "metadata": {},
   "outputs": [
    {
     "name": "stdout",
     "output_type": "stream",
     "text": [
      "===>Load from yahoo data set<===\n",
      "[train] num data: 311704\n",
      "[test]  num data: 54000\n"
     ]
    },
    {
     "name": "stderr",
     "output_type": "stream",
     "text": [
      "100%|██████████| 500/500 [10:37<00:00,  1.27s/it]\n"
     ]
    },
    {
     "name": "stdout",
     "output_type": "stream",
     "text": [
      "54000\n",
      "mse is 0.607001543045044\n",
      "auc is 0.5850173303946195\n"
     ]
    }
   ],
   "source": [
    "# --- MF_IPS  IPS from MNAR----\n",
    "from Propensity import *\n",
    "from MF import *\n",
    "#cauculate Inverse Prop\n",
    "# ensity Score\n",
    "device=torch.device(\"cuda:0\" if torch.cuda.is_available() else \"cpu\")\n",
    "config = {'num_users':290,'num_items':300,'propensity_model':'popularity'}\n",
    "\n",
    "propensity = Propensity(config)\n",
    "data = propensity.get_data(data_type='train',name='yahoo')\n",
    "propensity.fit(data)\n",
    "score = propensity.predict(data)\n",
    "\n",
    "\n",
    "model = MF(15401,1001,device = device)\n",
    "optimizer = Adam(model.parameters(),lr = 0.01,weight_decay=0)\n",
    "func_loss = MSELoss(reduction= 'none')\n",
    "early_stop = 0\n",
    "last_loss = 1e10\n",
    "\n",
    "for epoch in tqdm(range(500)):\n",
    "    # if epoch != 0:\n",
    "    #     data = model.prediect().numpy()\n",
    "    #     data = propensity.get_data(datas=data)\n",
    "    # propensity.fit(data)\n",
    "    # score = propensity.predict(data)\n",
    "    model.train()\n",
    "    epoch_loss = 0\n",
    "    for step,((user_idx,item_idx),rates) in enumerate(train_loader):\n",
    "\n",
    "        prop_score = torch.FloatTensor(score[item_idx])\n",
    "\n",
    "        rates_pre = model(user_idx,item_idx)\n",
    "\n",
    "        loss = binary_cross_entropy(rates_pre,rates.float(),weight = prop_score) \n",
    "        loss = torch.mean(loss)\n",
    "\n",
    "        optimizer.zero_grad()\n",
    "\n",
    "        loss.backward()\n",
    "\n",
    "        optimizer.step()\n",
    "        epoch_loss += loss.detach().numpy()\n",
    "\n",
    "    relative_loss_div = (last_loss-epoch_loss)/(last_loss+1e-10)\n",
    "    if  abs(relative_loss_div) < 1e-5:\n",
    "        if early_stop > 5:\n",
    "            print(\"[MF-IPS] epoch:{}, xent:{}\".format(epoch, epoch_loss))\n",
    "            break\n",
    "        early_stop += 1\n",
    "    last_loss = epoch_loss\n",
    "\n",
    "\n",
    "#-------------test------------------\n",
    "mse = 0.0\n",
    "mse_func = lambda x,y: torch.mean((x-y)**2)\n",
    "with torch.no_grad():\n",
    "    for step,((user_idx,item_idx),rates) in enumerate(test_loader):\n",
    "        print(len(rates))\n",
    "\n",
    "        rates_pre = model(user_idx,item_idx)\n",
    "        mse = mse_func(rates_pre,rates.float())\n",
    "        auc = roc_auc_score(rates,rates_pre)\n",
    "        print('mse is {}'.format(mse))\n",
    "        print('auc is {}'.format(auc))\n"
   ]
  },
  {
   "cell_type": "code",
   "execution_count": null,
   "metadata": {},
   "outputs": [],
   "source": []
  }
 ],
 "metadata": {
  "interpreter": {
   "hash": "348907d6a805e3aff18463777e68219ad9f9877e8378b9312fcb98293899dbee"
  },
  "kernelspec": {
   "display_name": "Python 3.8.10 64-bit",
   "language": "python",
   "name": "python3"
  },
  "language_info": {
   "codemirror_mode": {
    "name": "ipython",
    "version": 3
   },
   "file_extension": ".py",
   "mimetype": "text/x-python",
   "name": "python",
   "nbconvert_exporter": "python",
   "pygments_lexer": "ipython3",
   "version": "3.8.10"
  },
  "orig_nbformat": 4
 },
 "nbformat": 4,
 "nbformat_minor": 2
}
