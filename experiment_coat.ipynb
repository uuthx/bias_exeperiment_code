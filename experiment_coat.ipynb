{
 "cells": [
  {
   "cell_type": "code",
   "execution_count": 2,
   "metadata": {},
   "outputs": [],
   "source": [
    "import numpy  as np\n",
    "import pandas as pd\n",
    "from torch.optim import Adam\n",
    "from torch.nn import MSELoss,BCELoss\n",
    "from torch.nn.functional import binary_cross_entropy\n",
    "from torch import LongTensor\n",
    "import torch\n",
    "from tqdm import tqdm\n",
    "from sklearn.metrics import roc_auc_score"
   ]
  },
  {
   "cell_type": "code",
   "execution_count": 20,
   "metadata": {},
   "outputs": [],
   "source": [
    "from Dataset import *\n",
    "from torch.utils.data import DataLoader\n",
    "np.random.seed(2022)\n",
    "train = DebiasDataset(datatype='train')\n",
    "test = DebiasDataset(datatype='test')\n",
    "\n",
    "train_loader = DataLoader(dataset=train,batch_size=64,shuffle=True)\n",
    "test_loader = DataLoader(dataset=test,batch_size=4640,shuffle=True)"
   ]
  },
  {
   "cell_type": "code",
   "execution_count": 24,
   "metadata": {},
   "outputs": [
    {
     "name": "stderr",
     "output_type": "stream",
     "text": [
      " 30%|██▉       | 299/1000 [00:20<00:49, 14.30it/s]"
     ]
    },
    {
     "name": "stdout",
     "output_type": "stream",
     "text": [
      "[MF-IPS] epoch:299, xent:2.104789218471126e-07\n",
      "mse is 0.40332332253456116\n",
      "auc is 0.6191999591697541\n"
     ]
    },
    {
     "name": "stderr",
     "output_type": "stream",
     "text": [
      "\n"
     ]
    }
   ],
   "source": [
    "#’---------MF----------------‘\n",
    "\n",
    "from MF import *\n",
    "\n",
    "model = MF(290,300)\n",
    "optimizer = Adam(model.parameters(),lr = 0.01,weight_decay=0)\n",
    "func_loss = BCELoss()\n",
    "early_stop = 0\n",
    "last_loss = 1e9\n",
    "\n",
    "for epoch in tqdm(range(1000)):\n",
    "    epoch_loss = 0\n",
    "    for step,((user_idx,item_idx),rates) in enumerate(train_loader):\n",
    "\n",
    "        rates_pre = model(user_idx,item_idx)\n",
    "\n",
    "        loss = func_loss(rates_pre,rates.float())\n",
    "\n",
    "        optimizer.zero_grad()\n",
    "\n",
    "        loss.backward()\n",
    "\n",
    "        optimizer.step()\n",
    "\n",
    "        epoch_loss += loss.detach().numpy()\n",
    "\n",
    "    relative_loss_div = (last_loss-epoch_loss)/(last_loss+1e-10)\n",
    "    if  relative_loss_div < 1e-6:\n",
    "        if early_stop > 5:\n",
    "            print(\"[MF-IPS] epoch:{}, xent:{}\".format(epoch, epoch_loss))\n",
    "            break\n",
    "        early_stop += 1\n",
    "    last_loss = epoch_loss\n",
    "\n",
    "\n",
    "#-------------test------------------\n",
    "mse = 0.0\n",
    "mse_func = lambda x,y: torch.mean((x-y)**2)\n",
    "with torch.no_grad():\n",
    "    for step,((user_idx,item_idx),rates) in enumerate(test_loader):\n",
    "\n",
    "        rates_pre = model(user_idx,item_idx)\n",
    "        mse = mse_func(rates_pre,rates.float())\n",
    "        auc = roc_auc_score(rates,rates_pre)\n",
    "        print('mse is {}'.format(mse))\n",
    "        print('auc is {}'.format(auc))\n",
    "    "
   ]
  },
  {
   "cell_type": "code",
   "execution_count": 26,
   "metadata": {},
   "outputs": [
    {
     "name": "stderr",
     "output_type": "stream",
     "text": [
      " 29%|██▉       | 293/1000 [00:26<01:04, 10.91it/s]"
     ]
    },
    {
     "name": "stdout",
     "output_type": "stream",
     "text": [
      "[MF-IPS] epoch:293, xent:1.5409365641261275e-06\n",
      "mse is 0.39592549204826355\n",
      "auc is 0.6215898431670042\n"
     ]
    },
    {
     "name": "stderr",
     "output_type": "stream",
     "text": [
      "\n"
     ]
    }
   ],
   "source": [
    "#----MF-IPS  IPS from MAR--------'\n",
    "from Propensity import *\n",
    "from MF import *\n",
    "#cauculate Inverse Propensity Score\n",
    "\n",
    "config = {'num_users':290,'num_items':300,'propensity_model':'popularity'}\n",
    "\n",
    "propensity = Propensity(config)\n",
    "data = propensity.get_data()\n",
    "propensity.fit(data)\n",
    "score = propensity.predict(data)\n",
    "\n",
    "\n",
    "model = MF(290,300)\n",
    "optimizer = Adam(model.parameters(),lr = 0.01,weight_decay=0)\n",
    "func_loss = MSELoss(reduction= 'none')\n",
    "early_stop = 0\n",
    "\n",
    "for epoch in tqdm(range(1000)):\n",
    "    epoch_loss = 0\n",
    "    for step,((user_idx,item_idx),rates) in enumerate(train_loader):\n",
    "\n",
    "        rates_pre = model(user_idx,item_idx)\n",
    "\n",
    "        prop_score = torch.FloatTensor(score[item_idx])\n",
    "\n",
    "        loss = binary_cross_entropy(rates_pre,rates.float(),weight=prop_score)\n",
    "        # loss = torch.mean(loss)\n",
    "\n",
    "        optimizer.zero_grad()\n",
    "\n",
    "        loss.backward()\n",
    "\n",
    "        optimizer.step()\n",
    "        epoch_loss += loss.detach().numpy()\n",
    "\n",
    "    relative_loss_div = (last_loss-epoch_loss)/(last_loss+1e-10)\n",
    "    if  relative_loss_div < 1e-6:\n",
    "        if early_stop > 5:\n",
    "            print(\"[MF-IPS] epoch:{}, xent:{}\".format(epoch, epoch_loss))\n",
    "            break\n",
    "        early_stop += 1\n",
    "    last_loss = epoch_loss\n",
    "\n",
    "\n",
    "\n",
    "#-------------test------------------\n",
    "mse = 0.0\n",
    "mse_func = lambda x,y: torch.mean((x-y)**2)\n",
    "with torch.no_grad():\n",
    "    for step,((user_idx,item_idx),rates) in enumerate(test_loader):\n",
    "\n",
    "        rates_pre = model(user_idx,item_idx)\n",
    "        mse = mse_func(rates_pre,rates.float())\n",
    "        auc = roc_auc_score(rates,rates_pre)\n",
    "        print('mse is {}'.format(mse))\n",
    "        print('auc is {}'.format(auc))\n"
   ]
  },
  {
   "cell_type": "code",
   "execution_count": 23,
   "metadata": {},
   "outputs": [
    {
     "name": "stderr",
     "output_type": "stream",
     "text": [
      " 28%|██▊       | 284/1000 [00:24<01:01, 11.71it/s]"
     ]
    },
    {
     "name": "stdout",
     "output_type": "stream",
     "text": [
      "[MF-IPS] epoch:284, xent:3.2628204795770444e-06\n",
      "mse is 0.4008309245109558\n",
      "auc is 0.6231375066793797\n"
     ]
    },
    {
     "name": "stderr",
     "output_type": "stream",
     "text": [
      "\n"
     ]
    }
   ],
   "source": [
    "# --- MF_IPS  IPS from MNAR----\n",
    "from Propensity import *\n",
    "from MF import *\n",
    "#cauculate Inverse Prop\n",
    "# ensity Score\n",
    "\n",
    "config = {'num_users':290,'num_items':300,'propensity_model':'popularity'}\n",
    "\n",
    "propensity = Propensity(config)\n",
    "data = propensity.get_data(data_type='train')\n",
    "propensity.fit(data)\n",
    "score = propensity.predict(data)\n",
    "\n",
    "\n",
    "model = MF(290,300)\n",
    "optimizer = Adam(model.parameters(),lr = 0.01,weight_decay=0)\n",
    "func_loss = MSELoss(reduction= 'none')\n",
    "early_stop = 0\n",
    "\n",
    "for epoch in tqdm(range(1000)):\n",
    "    # if epoch != 0:\n",
    "    #     data = model.prediect().numpy()\n",
    "    #     data = propensity.get_data(datas=data)\n",
    "    # propensity.fit(data)\n",
    "    # score = propensity.predict(data)\n",
    "    model.train()\n",
    "    epoch_loss = 0\n",
    "\n",
    "    for step,((user_idx,item_idx),rates) in enumerate(train_loader):\n",
    "\n",
    "        rates_pre = model(user_idx,item_idx)\n",
    "\n",
    "        prop_score = torch.FloatTensor(score[item_idx])\n",
    "\n",
    "        loss = binary_cross_entropy(rates_pre,rates.float(),weight=prop_score)\n",
    "        # loss = torch.mean(loss)\n",
    "\n",
    "        optimizer.zero_grad()\n",
    "\n",
    "        loss.backward()\n",
    "\n",
    "        optimizer.step()\n",
    "        epoch_loss += loss.detach().numpy()\n",
    "\n",
    "    relative_loss_div = (last_loss-epoch_loss)/(last_loss+1e-10)\n",
    "    if  relative_loss_div < 1e-6:\n",
    "        if early_stop > 5:\n",
    "            print(\"[MF-IPS] epoch:{}, xent:{}\".format(epoch, epoch_loss))\n",
    "            break\n",
    "        early_stop += 1\n",
    "    last_loss = epoch_loss\n",
    "\n",
    "\n",
    "#-------------test------------------\n",
    "mse = 0.0\n",
    "mse_func = lambda x,y: torch.mean((x-y)**2)\n",
    "with torch.no_grad():\n",
    "    for step,((user_idx,item_idx),rates) in enumerate(test_loader):\n",
    "\n",
    "        rates_pre = model(user_idx,item_idx)\n",
    "        mse = mse_func(rates_pre,rates.float())\n",
    "        auc = roc_auc_score(rates,rates_pre)\n",
    "        print('mse is {}'.format(mse))\n",
    "        print('auc is {}'.format(auc))\n"
   ]
  }
 ],
 "metadata": {
  "interpreter": {
   "hash": "348907d6a805e3aff18463777e68219ad9f9877e8378b9312fcb98293899dbee"
  },
  "kernelspec": {
   "display_name": "Python 3.8.10 64-bit",
   "language": "python",
   "name": "python3"
  },
  "language_info": {
   "codemirror_mode": {
    "name": "ipython",
    "version": 3
   },
   "file_extension": ".py",
   "mimetype": "text/x-python",
   "name": "python",
   "nbconvert_exporter": "python",
   "pygments_lexer": "ipython3",
   "version": "3.8.10"
  },
  "orig_nbformat": 4
 },
 "nbformat": 4,
 "nbformat_minor": 2
}
